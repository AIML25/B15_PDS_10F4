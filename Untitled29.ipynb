{
  "nbformat": 4,
  "nbformat_minor": 0,
  "metadata": {
    "colab": {
      "provenance": [],
      "authorship_tag": "ABX9TyPZTnDE9SqLEi//gtViT98R",
      "include_colab_link": true
    },
    "kernelspec": {
      "name": "python3",
      "display_name": "Python 3"
    },
    "language_info": {
      "name": "python"
    }
  },
  "cells": [
    {
      "cell_type": "markdown",
      "metadata": {
        "id": "view-in-github",
        "colab_type": "text"
      },
      "source": [
        "<a href=\"https://colab.research.google.com/github/AIML25/B15_PDS_10F4/blob/main/Untitled29.ipynb\" target=\"_parent\"><img src=\"https://colab.research.google.com/assets/colab-badge.svg\" alt=\"Open In Colab\"/></a>"
      ]
    },
    {
      "cell_type": "code",
      "execution_count": null,
      "metadata": {
        "id": "DHAklGiekCaT"
      },
      "outputs": [],
      "source": [
        "def factorial(n, depth=0):\n",
        "    indent = \"  \" * depth\n",
        "    print(f\"{indent}Call factorial({n})\")\n",
        "    if n < 0:\n",
        "        print(f\"{indent}  Error: Negative input\")\n",
        "        return None\n",
        "    if n <= 1:\n",
        "        print(f\"{indent}  Base case reached - returning 1\")\n",
        "        return 1\n",
        "    print(f\"{indent}  Calling factorial({n-1})\")\n",
        "    result = n * factorial(n - 1, depth + 1)\n",
        "    print(f\"{indent}  Received {result//n} from factorial({n-1})\")\n",
        "    print(f\"{indent}  Returning {result} (since {n} * {result//n} = {result})\")\n",
        "    return result\n",
        "\n",
        "while True:\n",
        "    try:\n",
        "        num = int(input(\"Enter a number (0-9) to compute factorial: \"))\n",
        "        if 0 <= num <= 9:\n",
        "            break\n",
        "        print(\"Please enter a number between 0 and 9\")\n",
        "    except ValueError:\n",
        "        print(\"Please enter a valid integer\")\n",
        "\n",
        "print(\"\\nComputing factorial of\", num, \"recursively:\\n\")\n",
        "result = factorial(num)\n",
        "print(f\"\\nFinal result: {num}! = {result}\")"
      ]
    }
  ]
}