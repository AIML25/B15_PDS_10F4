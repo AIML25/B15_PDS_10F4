{
  "nbformat": 4,
  "nbformat_minor": 0,
  "metadata": {
    "colab": {
      "provenance": [],
      "authorship_tag": "ABX9TyPZTnDE9SqLEi//gtViT98R",
      "include_colab_link": true
    },
    "kernelspec": {
      "name": "python3",
      "display_name": "Python 3"
    },
    "language_info": {
      "name": "python"
    }
  },
  "cells": [
    {
      "cell_type": "markdown",
      "metadata": {
        "id": "view-in-github",
        "colab_type": "text"
      },
      "source": [
        "<a href=\"https://colab.research.google.com/github/AIML25/B15_PDS_10F4/blob/main/Untitled29.ipynb\" target=\"_parent\"><img src=\"https://colab.research.google.com/assets/colab-badge.svg\" alt=\"Open In Colab\"/></a>"
      ]
    },
    {
      "cell_type": "code",
      "execution_count": 4,
      "metadata": {
        "colab": {
          "base_uri": "https://localhost:8080/"
        },
        "id": "DHAklGiekCaT",
        "outputId": "182c58e0-0fa7-4e27-9af4-555cb25e36ec"
      },
      "outputs": [
        {
          "output_type": "stream",
          "name": "stdout",
          "text": [
            "Enter a number (0-9) to compute factorial: 7\n",
            "\n",
            "Computing factorial of 7 recursively:\n",
            "\n",
            "Call factorial(7)\n",
            "  Calling factorial(6)\n",
            "  Call factorial(6)\n",
            "    Calling factorial(5)\n",
            "    Call factorial(5)\n",
            "      Calling factorial(4)\n",
            "      Call factorial(4)\n",
            "        Calling factorial(3)\n",
            "        Call factorial(3)\n",
            "          Calling factorial(2)\n",
            "          Call factorial(2)\n",
            "            Calling factorial(1)\n",
            "            Call factorial(1)\n",
            "              Base case reached - returning 1\n",
            "            Received 1 from factorial(1)\n",
            "            Returning 2 (since 2 * 1 = 2)\n",
            "          Received 2 from factorial(2)\n",
            "          Returning 6 (since 3 * 2 = 6)\n",
            "        Received 6 from factorial(3)\n",
            "        Returning 24 (since 4 * 6 = 24)\n",
            "      Received 24 from factorial(4)\n",
            "      Returning 120 (since 5 * 24 = 120)\n",
            "    Received 120 from factorial(5)\n",
            "    Returning 720 (since 6 * 120 = 720)\n",
            "  Received 720 from factorial(6)\n",
            "  Returning 5040 (since 7 * 720 = 5040)\n",
            "\n",
            "Final result: 7! = 5040\n"
          ]
        }
      ],
      "source": [
        "def factorial(n, depth=0):\n",
        "    indent = \"  \" * depth\n",
        "    print(f\"{indent}Call factorial({n})\")\n",
        "    if n < 0:\n",
        "        print(f\"{indent}  Error: Negative input\")\n",
        "        return None\n",
        "    if n <= 1:\n",
        "        print(f\"{indent}  Base case reached - returning 1\")\n",
        "        return 1\n",
        "    print(f\"{indent}  Calling factorial({n-1})\")\n",
        "    result = n * factorial(n - 1, depth + 1)\n",
        "    print(f\"{indent}  Received {result//n} from factorial({n-1})\")\n",
        "    print(f\"{indent}  Returning {result} (since {n} * {result//n} = {result})\")\n",
        "    return result\n",
        "\n",
        "while True:\n",
        "    try:\n",
        "        num = int(input(\"Enter a number (0-9) to compute factorial: \"))\n",
        "        if 0 <= num <= 9:\n",
        "            break\n",
        "        print(\"Please enter a number between 0 and 9\")\n",
        "    except ValueError:\n",
        "        print(\"Please enter a valid integer\")\n",
        "\n",
        "print(\"\\nComputing factorial of\", num, \"recursively:\\n\")\n",
        "result = factorial(num)\n",
        "print(f\"\\nFinal result: {num}! = {result}\")"
      ]
    }
  ]
}