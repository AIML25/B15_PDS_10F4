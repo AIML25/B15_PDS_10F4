{
  "nbformat": 4,
  "nbformat_minor": 0,
  "metadata": {
    "colab": {
      "provenance": [],
      "authorship_tag": "ABX9TyN1FYHR2ov6hGtaySevAquB",
      "include_colab_link": true
    },
    "kernelspec": {
      "name": "python3",
      "display_name": "Python 3"
    },
    "language_info": {
      "name": "python"
    }
  },
  "cells": [
    {
      "cell_type": "markdown",
      "metadata": {
        "id": "view-in-github",
        "colab_type": "text"
      },
      "source": [
        "<a href=\"https://colab.research.google.com/github/AIML25/B15_PDS_10F4/blob/main/Lab_3_B15_10F4.ipynb\" target=\"_parent\"><img src=\"https://colab.research.google.com/assets/colab-badge.svg\" alt=\"Open In Colab\"/></a>"
      ]
    },
    {
      "cell_type": "code",
      "execution_count": 1,
      "metadata": {
        "colab": {
          "base_uri": "https://localhost:8080/",
          "height": 1000
        },
        "id": "0dX4F4Gbh7a0",
        "outputId": "6d1dc325-b587-41cd-8bc0-8305f2cd8583"
      },
      "outputs": [
        {
          "output_type": "stream",
          "name": "stdout",
          "text": [
            "Original 3x3x3 Image Matrix (RGB):\n",
            "[[[ 71 176 146]\n",
            "  [212  35 135]\n",
            "  [196 139  20]]\n",
            "\n",
            " [[129 254  14]\n",
            "  [150 232  38]\n",
            "  [180   2 141]]\n",
            "\n",
            " [[ 56  74  65]\n",
            "  [172  26  77]\n",
            "  [ 30 135 139]]]\n",
            "\n",
            "Red Channel:\n",
            " [[ 71 212 196]\n",
            " [129 150 180]\n",
            " [ 56 172  30]]\n",
            "\n",
            "Green Channel:\n",
            " [[176  35 139]\n",
            " [254 232   2]\n",
            " [ 74  26 135]]\n",
            "\n",
            "Blue Channel:\n",
            " [[146 135  20]\n",
            " [ 14  38 141]\n",
            " [ 65  77 139]]\n",
            "\n",
            "Average Intensities:\n",
            "Red: 132.89, Green: 119.22, Blue: 86.11\n",
            "\n",
            "Brightened Image Matrix:\n",
            " [[[121 226 196]\n",
            "  [  6  85 185]\n",
            "  [246 189  70]]\n",
            "\n",
            " [[179  48  64]\n",
            "  [200  26  88]\n",
            "  [230  52 191]]\n",
            "\n",
            " [[106 124 115]\n",
            "  [222  76 127]\n",
            "  [ 80 185 189]]]\n"
          ]
        },
        {
          "output_type": "display_data",
          "data": {
            "text/plain": [
              "<Figure size 1200x300 with 4 Axes>"
            ],
            "image/png": "[encoded data removed]"
          },
          "metadata": {}
        },
        {
          "output_type": "display_data",
          "data": {
            "text/plain": [
              "<Figure size 640x480 with 1 Axes>"
            ],
            "image/png": "[encoded data removed]"
          },
          "metadata": {}
        }
      ],
      "source": [
        "import numpy as np\n",
        "import matplotlib.pyplot as plt\n",
        "image = np.random.randint(0, 256, size=(3, 3, 3), dtype=np.uint8)\n",
        "print(\"Original 3x3x3 Image Matrix (RGB):\")\n",
        "print(image)\n",
        "red_channel = image[:, :, 0]\n",
        "green_channel = image[:, :, 1]\n",
        "blue_channel = image[:, :, 2]\n",
        "print(\"\\nRed Channel:\\n\", red_channel)\n",
        "print(\"\\nGreen Channel:\\n\", green_channel)\n",
        "print(\"\\nBlue Channel:\\n\", blue_channel)\n",
        "avg_red = np.mean(red_channel)\n",
        "avg_green = np.mean(green_channel)\n",
        "avg_blue = np.mean(blue_channel)\n",
        "print(\"\\nAverage Intensities:\")\n",
        "print(f\"Red: {avg_red:.2f}, Green: {avg_green:.2f}, Blue: {avg_blue:.2f}\")\n",
        "brightened = np.clip(image + 50, 0, 255)\n",
        "print(\"\\nBrightened Image Matrix:\\n\", brightened)\n",
        "fig, axes = plt.subplots(1, 4, figsize=(12, 3))\n",
        "axes[0].imshow(image)\n",
        "axes[0].set_title(\"Original\")\n",
        "axes[0].axis(\"off\")\n",
        "axes[1].imshow(red_channel, cmap=\"Reds\")\n",
        "axes[1].set_title(\"Red Channel\")\n",
        "axes[1].axis(\"off\")\n",
        "axes[2].imshow(green_channel, cmap=\"Greens\")\n",
        "axes[2].set_title(\"Green Channel\")\n",
        "axes[2].axis(\"off\")\n",
        "axes[3].imshow(blue_channel, cmap=\"Blues\")\n",
        "axes[3].set_title(\"Blue Channel\")\n",
        "axes[3].axis(\"off\")\n",
        "plt.show()\n",
        "plt.imshow(brightened)\n",
        "plt.title(\"Brightened Image\")\n",
        "plt.axis(\"off\")\n",
        "plt.show()\n"
      ]
    },
    {
      "cell_type": "code",
      "source": [
        "import numpy as np\n",
        "A = np.arange(12).reshape(3, 4)\n",
        "B = np.array([10, 20, 30, 40])\n",
        "print(\"2D Array A (shape\", A.shape, \"):\\n\", A)\n",
        "print(\"1D Array B (shape\", B.shape, \"):\\n\", B)\n",
        "C = A + B\n",
        "print(\"\\nA + B result (shape\", C.shape, \"):\\n\", C)\n",
        "print(\"\\nBroadcasting rule: compare dimensions right-to-left. (3,4) + (4,) => (3,4)\")\n",
        "D = np.ones((3, 3, 3), dtype=int) * 5\n",
        "scalar = 7\n",
        "E = D + scalar\n",
        "print(\"\\n3D Array D (shape\", D.shape, \") + scalar (shape ()) =>\", E.shape)\n",
        "print(E)\n",
        "F = np.array([1, 2, 3])\n",
        "F_row = F[:, np.newaxis]\n",
        "print(\"\\nOriginal F shape:\", F.shape)\n",
        "print(\"F reshaped with np.newaxis (shape\", F_row.shape, \"):\\n\", F_row)\n",
        "G = np.arange(12).reshape(3, 4)\n",
        "print(\"\\nArray G (shape\", G.shape, \"):\\n\", G)\n",
        "try:\n",
        "    result = G + F_row\n",
        "    print(\"G + F_row (shapes (3,4) + (3,1)) => (3,4):\\n\", result)\n",
        "except ValueError as e:\n",
        "    print(\"Error:\", e)\n",
        "H = np.arange(12).reshape(3, 4)\n",
        "I = np.arange(9).reshape(3, 3)\n",
        "print(\"\\nInvalid case: H shape\", H.shape, \"and I shape\", I.shape)\n",
        "try:\n",
        "    invalid = H + I\n",
        "except ValueError as e:\n",
        "    print(\"Error:\", e)\n"
      ],
      "metadata": {
        "colab": {
          "base_uri": "https://localhost:8080/"
        },
        "id": "Kae8nKCQjT-0",
        "outputId": "1bf63750-e958-499c-999e-f50d1823286f"
      },
      "execution_count": 2,
      "outputs": [
        {
          "output_type": "stream",
          "name": "stdout",
          "text": [
            "2D Array A (shape (3, 4) ):\n",
            " [[ 0  1  2  3]\n",
            " [ 4  5  6  7]\n",
            " [ 8  9 10 11]]\n",
            "1D Array B (shape (4,) ):\n",
            " [10 20 30 40]\n",
            "\n",
            "A + B result (shape (3, 4) ):\n",
            " [[10 21 32 43]\n",
            " [14 25 36 47]\n",
            " [18 29 40 51]]\n",
            "\n",
            "Broadcasting rule: compare dimensions right-to-left. (3,4) + (4,) => (3,4)\n",
            "\n",
            "3D Array D (shape (3, 3, 3) ) + scalar (shape ()) => (3, 3, 3)\n",
            "[[[12 12 12]\n",
            "  [12 12 12]\n",
            "  [12 12 12]]\n",
            "\n",
            " [[12 12 12]\n",
            "  [12 12 12]\n",
            "  [12 12 12]]\n",
            "\n",
            " [[12 12 12]\n",
            "  [12 12 12]\n",
            "  [12 12 12]]]\n",
            "\n",
            "Original F shape: (3,)\n",
            "F reshaped with np.newaxis (shape (3, 1) ):\n",
            " [[1]\n",
            " [2]\n",
            " [3]]\n",
            "\n",
            "Array G (shape (3, 4) ):\n",
            " [[ 0  1  2  3]\n",
            " [ 4  5  6  7]\n",
            " [ 8  9 10 11]]\n",
            "G + F_row (shapes (3,4) + (3,1)) => (3,4):\n",
            " [[ 1  2  3  4]\n",
            " [ 6  7  8  9]\n",
            " [11 12 13 14]]\n",
            "\n",
            "Invalid case: H shape (3, 4) and I shape (3, 3)\n",
            "Error: operands could not be broadcast together with shapes (3,4) (3,3) \n"
          ]
        }
      ]
    }
  ]
}